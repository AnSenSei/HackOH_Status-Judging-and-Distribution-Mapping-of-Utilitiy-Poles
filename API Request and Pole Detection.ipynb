{
 "cells": [
  {
   "cell_type": "code",
   "execution_count": null,
   "metadata": {},
   "outputs": [],
   "source": [
    "from PIL import Image \n",
    "import os\n",
    "import cv2\n",
    "import requests\n",
    "import json\n",
    "import pandas as pd\n",
    "import numpy as np"
   ]
  },
  {
   "cell_type": "code",
   "execution_count": null,
   "metadata": {},
   "outputs": [],
   "source": [
    "\n",
    "with open('/Users/liangyu/Documents/hackOH/images/000086-backleft-713d288d-d622-4f86-81d2-70eb17dd68e6-44.jpg', 'rb') as f:\n",
    "    r = requests.post('http://18.191.45.207:5000/api/models/predict/pole', files={'image': f})\n",
    "#    print(r.status_code)\n",
    "#    print(r.raise_for_status())\n",
    "    received_json=json.loads(r.content)\n",
    "    with open('crop.json', 'w') as json_file:\n",
    "        json.dump(received_json, json_file)\n",
    "#   print(json.dumps(received_json, indent=4, sort_keys=True))\n"
   ]
  },
  {
   "cell_type": "code",
   "execution_count": null,
   "metadata": {},
   "outputs": [],
   "source": [
    "for i in os.listdir(\"/Users/liangyu/Documents/hackOH/images/\"):\n",
    "    if i.lower().endswith(('.jpg')) ==True:\n",
    "        with open('/Users/liangyu/Documents/hackOH/images/'+i, 'rb') as f:\n",
    "            r = requests.post('http://18.191.45.207:5000/api/models/predict/pole', files={'image': f})\n",
    "#    print(r.status_code)\n",
    "#    print(r.raise_for_status())\n",
    "            received_json=json.loads(r.content)\n",
    "            with open('crop.json', 'w') as json_file:\n",
    "             json.dump(received_json, json_file)\n",
    "#   print(json.dumps(received_json, indent=4, sort_keys=True))\n",
    "            df=pd.read_json (r'./crop.json')\n",
    "            list=df.loc[2,1]\n",
    "            for n in list:\n",
    "                np.array(n)\n",
    "                value1=n[1]\n",
    "                value2=n[0]\n",
    "                value3=n[3]\n",
    "                value4=n[2]\n",
    "                image =Image.open(\"/Users/liangyu/Documents/hackOH/images/\"+i)\n",
    "                image.crop((value1,value2,value3,value4)).show()"
   ]
  },
  {
   "cell_type": "code",
   "execution_count": null,
   "metadata": {},
   "outputs": [],
   "source": []
  }
 ],
 "metadata": {
  "kernelspec": {
   "display_name": "Python 3",
   "language": "python",
   "name": "python3"
  },
  "language_info": {
   "codemirror_mode": {
    "name": "ipython",
    "version": 3
   },
   "file_extension": ".py",
   "mimetype": "text/x-python",
   "name": "python",
   "nbconvert_exporter": "python",
   "pygments_lexer": "ipython3",
   "version": "3.7.9"
  }
 },
 "nbformat": 4,
 "nbformat_minor": 4
}
