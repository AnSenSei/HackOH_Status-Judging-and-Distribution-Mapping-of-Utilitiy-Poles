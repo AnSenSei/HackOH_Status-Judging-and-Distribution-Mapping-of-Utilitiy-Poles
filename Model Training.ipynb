{
 "cells": [
  {
   "cell_type": "code",
   "execution_count": 1,
   "metadata": {},
   "outputs": [
    {
     "name": "stderr",
     "output_type": "stream",
     "text": [
      "Using TensorFlow backend.\n"
     ]
    }
   ],
   "source": [
    "import keras\n",
    "from keras.preprocessing.image import ImageDataGenerator"
   ]
  },
  {
   "cell_type": "code",
   "execution_count": 2,
   "metadata": {},
   "outputs": [],
   "source": [
    "resize=224"
   ]
  },
  {
   "cell_type": "code",
   "execution_count": 3,
   "metadata": {},
   "outputs": [],
   "source": [
    "\n",
    "\n",
    "from keras import Sequential\n",
    "from keras.layers import Dense, Dropout, Activation, Flatten\n",
    "from keras.layers import Conv2D, MaxPooling2D, BatchNormalization, GlobalAveragePooling2D\n",
    "\n"
   ]
  },
  {
   "cell_type": "code",
   "execution_count": 4,
   "metadata": {},
   "outputs": [
    {
     "name": "stdout",
     "output_type": "stream",
     "text": [
      "Found 636 images belonging to 3 classes.\n",
      "Found 116 images belonging to 3 classes.\n",
      "{'desposed': 0, 'inservice': 1, 'maintance': 2}\n"
     ]
    }
   ],
   "source": [
    "\n",
    "train_dir='/Users/liangyu/Documents/hackOH/data/train'\n",
    "test_dir='/Users/liangyu/Documents/hackOH/data/test'\n",
    "train_flow=ImageDataGenerator(rescale=1./255).flow_from_directory(directory=train_dir,target_size=(224,224),batch_size=64,class_mode='categorical')\n",
    "test_flow=ImageDataGenerator(rescale=1./255).flow_from_directory(directory=test_dir,target_size=(224,224),batch_size=64,class_mode='categorical')\n",
    "print(train_flow.class_indices)\n"
   ]
  },
  {
   "cell_type": "code",
   "execution_count": 5,
   "metadata": {},
   "outputs": [
    {
     "name": "stdout",
     "output_type": "stream",
     "text": [
      "Epoch 1/20\n",
      "20/20 [==============================] - 414s 21s/step - loss: 0.9640 - accuracy: 0.5456 - val_loss: 0.7244 - val_accuracy: 0.8362\n",
      "Epoch 2/20\n",
      "20/20 [==============================] - 401s 20s/step - loss: 0.6642 - accuracy: 0.7421 - val_loss: 0.6047 - val_accuracy: 0.8448\n",
      "Epoch 3/20\n",
      "20/20 [==============================] - 396s 20s/step - loss: 0.5457 - accuracy: 0.7995 - val_loss: 0.4331 - val_accuracy: 0.8534\n",
      "Epoch 4/20\n",
      "20/20 [==============================] - 393s 20s/step - loss: 0.4732 - accuracy: 0.8247 - val_loss: 0.4259 - val_accuracy: 0.8707\n",
      "Epoch 5/20\n",
      "20/20 [==============================] - 386s 19s/step - loss: 0.4121 - accuracy: 0.8608 - val_loss: 0.3716 - val_accuracy: 0.8707\n",
      "Epoch 6/20\n",
      "20/20 [==============================] - 386s 19s/step - loss: 0.3768 - accuracy: 0.8608 - val_loss: 0.3354 - val_accuracy: 0.8707\n",
      "Epoch 7/20\n",
      "20/20 [==============================] - 392s 20s/step - loss: 0.3282 - accuracy: 0.8994 - val_loss: 0.3444 - val_accuracy: 0.8793\n",
      "Epoch 8/20\n",
      "20/20 [==============================] - 387s 19s/step - loss: 0.2981 - accuracy: 0.9112 - val_loss: 0.3052 - val_accuracy: 0.8879\n",
      "Epoch 9/20\n",
      "20/20 [==============================] - 391s 20s/step - loss: 0.2900 - accuracy: 0.8994 - val_loss: 0.3622 - val_accuracy: 0.8793\n",
      "Epoch 10/20\n",
      "20/20 [==============================] - 407s 20s/step - loss: 0.2517 - accuracy: 0.9324 - val_loss: 0.2510 - val_accuracy: 0.8793\n",
      "Epoch 11/20\n",
      "20/20 [==============================] - 415s 21s/step - loss: 0.2275 - accuracy: 0.9324 - val_loss: 0.3829 - val_accuracy: 0.8966\n",
      "Epoch 12/20\n",
      "20/20 [==============================] - 407s 20s/step - loss: 0.2135 - accuracy: 0.9434 - val_loss: 0.3351 - val_accuracy: 0.8966\n",
      "Epoch 13/20\n",
      "20/20 [==============================] - 393s 20s/step - loss: 0.2021 - accuracy: 0.9505 - val_loss: 0.2622 - val_accuracy: 0.9138\n",
      "Epoch 14/20\n",
      "20/20 [==============================] - 403s 20s/step - loss: 0.1866 - accuracy: 0.9434 - val_loss: 0.1193 - val_accuracy: 0.9138\n",
      "Epoch 15/20\n",
      "20/20 [==============================] - 392s 20s/step - loss: 0.1821 - accuracy: 0.9568 - val_loss: 0.1298 - val_accuracy: 0.9138\n",
      "Epoch 16/20\n",
      "20/20 [==============================] - 391s 20s/step - loss: 0.1616 - accuracy: 0.9591 - val_loss: 0.2630 - val_accuracy: 0.9224\n",
      "Epoch 17/20\n",
      "20/20 [==============================] - 1248s 62s/step - loss: 0.1539 - accuracy: 0.9599 - val_loss: 0.2364 - val_accuracy: 0.9224\n",
      "Epoch 18/20\n",
      "20/20 [==============================] - 393s 20s/step - loss: 0.1446 - accuracy: 0.9678 - val_loss: 0.1880 - val_accuracy: 0.9310\n",
      "Epoch 19/20\n",
      "20/20 [==============================] - 402s 20s/step - loss: 0.1371 - accuracy: 0.9670 - val_loss: 0.1835 - val_accuracy: 0.9138\n",
      "Epoch 20/20\n",
      "20/20 [==============================] - 389s 19s/step - loss: 0.1282 - accuracy: 0.9678 - val_loss: 0.2311 - val_accuracy: 0.9397\n"
     ]
    }
   ],
   "source": [
    "from keras.applications.vgg16 import VGG16\n",
    "from keras.models import Model\n",
    "base_model = VGG16(weights='imagenet', include_top=False, \n",
    "                   input_shape=(resize, resize, 3), classes = 3)\n",
    "for layer in base_model.layers:\n",
    "    layer.trainable = False\n",
    "x = base_model.output\n",
    "x = GlobalAveragePooling2D()(x)\n",
    "x = Dense(128, activation='relu')(x)\n",
    "x = Dropout(0.5)(x)\n",
    "predictions = Dense(3, activation='softmax')(x)\n",
    "\n",
    "model = Model(inputs=base_model.input, outputs=predictions)\n",
    "model.compile(loss='categorical_crossentropy',\n",
    "              optimizer='adam',\n",
    "              metrics=['accuracy'],)\n",
    "\n",
    "his=model.fit_generator(train_flow,\n",
    "                        steps_per_epoch=20,\n",
    "                        epochs=20,\n",
    "                        validation_data=test_flow)\n",
    "\n",
    "\n"
   ]
  },
  {
   "cell_type": "code",
   "execution_count": 6,
   "metadata": {},
   "outputs": [],
   "source": [
    "model.save('/Users/liangyu/Documents/hackOH/model.h5')\n"
   ]
  },
  {
   "cell_type": "code",
   "execution_count": 7,
   "metadata": {},
   "outputs": [
    {
     "data": {
      "image/png": "[encoded data removed]",
      "text/plain": [
       "<Figure size 432x288 with 1 Axes>"
      ]
     },
     "metadata": {
      "needs_background": "light"
     },
     "output_type": "display_data"
    },
    {
     "data": {
      "image/png": "[encoded data removed]",
      "text/plain": [
       "<Figure size 432x288 with 1 Axes>"
      ]
     },
     "metadata": {
      "needs_background": "light"
     },
     "output_type": "display_data"
    }
   ],
   "source": [
    "import matplotlib.pyplot as plt\n",
    "plt.plot(his.history['accuracy'])\n",
    "plt.plot(his.history['val_accuracy'])\n",
    "plt.title('model_accuracy')\n",
    "plt.ylabel('accuracy')\n",
    "plt.xlabel('epoch')\n",
    "plt.legend(['train', 'test'], loc='upper left')\n",
    "plt.show()\n",
    "plt.plot(his.history['loss'])\n",
    "plt.plot(his.history['val_loss'])\n",
    "plt.title('loss')\n",
    "plt.ylabel('loss')\n",
    "plt.xlabel('epoch')\n",
    "plt.legend(['train', 'test'], loc='upper left')\n",
    "plt.show()\n"
   ]
  },
  {
   "cell_type": "code",
   "execution_count": 8,
   "metadata": {},
   "outputs": [
    {
     "name": "stdout",
     "output_type": "stream",
     "text": [
      "Model: \"model_1\"\n",
      "_________________________________________________________________\n",
      "Layer (type)                 Output Shape              Param #   \n",
      "=================================================================\n",
      "input_1 (InputLayer)         (None, 224, 224, 3)       0         \n",
      "_________________________________________________________________\n",
      "block1_conv1 (Conv2D)        (None, 224, 224, 64)      1792      \n",
      "_________________________________________________________________\n",
      "block1_conv2 (Conv2D)        (None, 224, 224, 64)      36928     \n",
      "_________________________________________________________________\n",
      "block1_pool (MaxPooling2D)   (None, 112, 112, 64)      0         \n",
      "_________________________________________________________________\n",
      "block2_conv1 (Conv2D)        (None, 112, 112, 128)     73856     \n",
      "_________________________________________________________________\n",
      "block2_conv2 (Conv2D)        (None, 112, 112, 128)     147584    \n",
      "_________________________________________________________________\n",
      "block2_pool (MaxPooling2D)   (None, 56, 56, 128)       0         \n",
      "_________________________________________________________________\n",
      "block3_conv1 (Conv2D)        (None, 56, 56, 256)       295168    \n",
      "_________________________________________________________________\n",
      "block3_conv2 (Conv2D)        (None, 56, 56, 256)       590080    \n",
      "_________________________________________________________________\n",
      "block3_conv3 (Conv2D)        (None, 56, 56, 256)       590080    \n",
      "_________________________________________________________________\n",
      "block3_pool (MaxPooling2D)   (None, 28, 28, 256)       0         \n",
      "_________________________________________________________________\n",
      "block4_conv1 (Conv2D)        (None, 28, 28, 512)       1180160   \n",
      "_________________________________________________________________\n",
      "block4_conv2 (Conv2D)        (None, 28, 28, 512)       2359808   \n",
      "_________________________________________________________________\n",
      "block4_conv3 (Conv2D)        (None, 28, 28, 512)       2359808   \n",
      "_________________________________________________________________\n",
      "block4_pool (MaxPooling2D)   (None, 14, 14, 512)       0         \n",
      "_________________________________________________________________\n",
      "block5_conv1 (Conv2D)        (None, 14, 14, 512)       2359808   \n",
      "_________________________________________________________________\n",
      "block5_conv2 (Conv2D)        (None, 14, 14, 512)       2359808   \n",
      "_________________________________________________________________\n",
      "block5_conv3 (Conv2D)        (None, 14, 14, 512)       2359808   \n",
      "_________________________________________________________________\n",
      "block5_pool (MaxPooling2D)   (None, 7, 7, 512)         0         \n",
      "_________________________________________________________________\n",
      "global_average_pooling2d_1 ( (None, 512)               0         \n",
      "_________________________________________________________________\n",
      "dense_1 (Dense)              (None, 128)               65664     \n",
      "_________________________________________________________________\n",
      "dropout_1 (Dropout)          (None, 128)               0         \n",
      "_________________________________________________________________\n",
      "dense_2 (Dense)              (None, 3)                 387       \n",
      "=================================================================\n",
      "Total params: 14,780,739\n",
      "Trainable params: 66,051\n",
      "Non-trainable params: 14,714,688\n",
      "_________________________________________________________________\n"
     ]
    }
   ],
   "source": [
    "model.summary()"
   ]
  }
 ],
 "metadata": {
  "kernelspec": {
   "display_name": "Python 3",
   "language": "python",
   "name": "python3"
  },
  "language_info": {
   "codemirror_mode": {
    "name": "ipython",
    "version": 3
   },
   "file_extension": ".py",
   "mimetype": "text/x-python",
   "name": "python",
   "nbconvert_exporter": "python",
   "pygments_lexer": "ipython3",
   "version": "3.7.9"
  }
 },
 "nbformat": 4,
 "nbformat_minor": 4
}
